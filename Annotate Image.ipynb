{
 "cells": [
  {
   "cell_type": "code",
   "execution_count": null,
   "id": "7feac564-ab41-4b3a-93a3-59935caff838",
   "metadata": {},
   "outputs": [],
   "source": [
    "from ultralytics import YOLO\n",
    "import cv2\n",
    "import numpy as np"
   ]
  },
  {
   "cell_type": "code",
   "execution_count": null,
   "id": "f1db6f0f-3da4-43d9-9031-f2d2302a2d89",
   "metadata": {},
   "outputs": [],
   "source": [
    "model = YOLO(\"yolov8n.pt\", \"v8\")"
   ]
  },
  {
   "cell_type": "code",
   "execution_count": null,
   "id": "c50efde7-9399-4fd8-861f-6d2b3d86add8",
   "metadata": {},
   "outputs": [],
   "source": [
    "def convert_to_yolo_format(bbox, img_width, img_height):\n",
    "    start_x, start_y, end_x, end_y = bbox\n",
    "\n",
    "    # Calculate the center coordinates of the bounding box\n",
    "    x_center = (start_x + end_x) / (2 * img_width)\n",
    "    y_center = (start_y + end_y) / (2 * img_height)\n",
    "\n",
    "    # Calculate the width and height of the bounding box\n",
    "    width = (end_x - start_x) / img_width\n",
    "    height = (end_y - start_y) / img_height\n",
    "\n",
    "    return x_center, y_center, width, height"
   ]
  },
  {
   "cell_type": "code",
   "execution_count": null,
   "id": "7190f303-8fbb-4b0c-a6eb-10abb629ab8d",
   "metadata": {},
   "outputs": [],
   "source": [
    "# Global variables\n",
    "drawing = False\n",
    "ix, iy = -1, -1\n",
    "bbox = []\n",
    "labels = []"
   ]
  },
  {
   "cell_type": "code",
   "execution_count": null,
   "id": "0d7c73e2-eb1b-48c6-9c1e-7ffa155065bc",
   "metadata": {},
   "outputs": [],
   "source": [
    "def draw_bbox(event, x, y, flags, param):\n",
    "    global ix, iy, drawing, bbox, labels\n",
    "\n",
    "    if event == cv2.EVENT_LBUTTONDOWN:\n",
    "        drawing = True\n",
    "        ix, iy = x, y\n",
    "        bbox.append((x, y))  # Append the starting point of the new bbox\n",
    "\n",
    "    elif event == cv2.EVENT_MOUSEMOVE:\n",
    "        if drawing:\n",
    "            img_copy = img.copy()  # Create a copy to draw rectangles without filling\n",
    "            for i in range(0, len(bbox), 2):\n",
    "                if i+1 < len(bbox):  # Ensure there are enough elements in bbox\n",
    "                    start = bbox[i]\n",
    "                    end = bbox[i+1]\n",
    "                    cv2.rectangle(img_copy, start, end, (0, 255, 0), 1)  # Draw the rectangle outline\n",
    "            cv2.rectangle(img_copy, (ix, iy), (x, y), (0, 255, 0), 1)  # Draw the new rectangle outline\n",
    "            cv2.imshow('image', img_copy)  # Show the image with updated rectangles\n",
    "\n",
    "    elif event == cv2.EVENT_LBUTTONUP:\n",
    "        drawing = False\n",
    "        bbox.append((x, y))  # Append the ending point of the new bbox\n",
    "        cv2.rectangle(img, (ix, iy), (x, y), (0, 255, 0), 1)  # Draw the final rectangle outline\n",
    "        label = input(\"Enter label for the object: \")\n",
    "        labels.append(label)\n",
    "        cv2.putText(img, label, (ix, iy - 10), cv2.FONT_HERSHEY_SIMPLEX, 0.9, (0, 255, 0), 2)"
   ]
  },
  {
   "cell_type": "code",
   "execution_count": null,
   "id": "2382afd4-0754-4b0f-add2-f739a6ce43ae",
   "metadata": {},
   "outputs": [],
   "source": [
    "# Load your image\n",
    "img = cv2.imread(\"images/frameforlabel.png\")\n",
    "clone = img.copy()\n",
    "\n",
    "cv2.namedWindow('image')\n",
    "cv2.setMouseCallback('image', draw_bbox)\n",
    "\n",
    "while True:\n",
    "    cv2.imshow('image', img)\n",
    "    key = cv2.waitKey(1) & 0xFF\n",
    "\n",
    "    # Reset the image\n",
    "    if key == ord('r'):\n",
    "        img = clone.copy()\n",
    "        bbox = []\n",
    "        labels = []\n",
    "\n",
    "    # Save the labeled image and annotations\n",
    "    elif key == ord('s'):\n",
    "        img_height, img_width = img.shape[:2]\n",
    "        with open(\"annotations.yml\", \"w\") as f:\n",
    "            for (start_x, start_y), (end_x, end_y), label in zip(bbox[::2], bbox[1::2], labels):\n",
    "                x_center, y_center, width, height = convert_to_yolo_format((start_x, start_y, end_x, end_y), img_width, img_height)\n",
    "                f.write(f\"{label} {x_center} {y_center} {width} {height}\\n\")\n",
    "\n",
    "            # Save the labeled image\n",
    "            for i in range(0, len(bbox), 2):\n",
    "                start = bbox[i]\n",
    "                end = bbox[i+1]\n",
    "                cv2.rectangle(img, start, end, (0, 255, 0), 2)\n",
    "                cv2.putText(img, labels[i//2], start, cv2.FONT_HERSHEY_SIMPLEX, 0.9, (0, 255, 0), 2)\n",
    "            cv2.imwrite(\"labeled_image.jpg\", img)\n",
    "        break\n",
    "\n",
    "    # Exit the loop\n",
    "    elif key == 27:\n",
    "        break\n",
    "\n",
    "cv2.destroyAllWindows()"
   ]
  }
 ],
 "metadata": {
  "kernelspec": {
   "display_name": "Python 3 (ipykernel)",
   "language": "python",
   "name": "python3"
  },
  "language_info": {
   "codemirror_mode": {
    "name": "ipython",
    "version": 3
   },
   "file_extension": ".py",
   "mimetype": "text/x-python",
   "name": "python",
   "nbconvert_exporter": "python",
   "pygments_lexer": "ipython3",
   "version": "3.12.2"
  }
 },
 "nbformat": 4,
 "nbformat_minor": 5
}
