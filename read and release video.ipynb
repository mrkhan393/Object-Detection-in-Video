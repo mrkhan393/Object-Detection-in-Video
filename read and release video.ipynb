{
 "cells": [
  {
   "cell_type": "code",
   "execution_count": 1,
   "id": "17a1e943-9e5d-484c-8fec-bf662445465b",
   "metadata": {},
   "outputs": [],
   "source": [
    "import numpy as np\n",
    "import cv2"
   ]
  },
  {
   "cell_type": "code",
   "execution_count": 2,
   "id": "55a15290-1bc8-429f-9601-f3408bfdb6be",
   "metadata": {},
   "outputs": [],
   "source": [
    "cap = cv2.VideoCapture('runs/detect/predict/chase_video.avi')"
   ]
  },
  {
   "cell_type": "code",
   "execution_count": 3,
   "id": "7cccf275-af06-45c9-b6f7-41390c59ad7a",
   "metadata": {},
   "outputs": [],
   "source": [
    "while(True):\n",
    "    ret, frame=cap.read()\n",
    "\n",
    "    cv2.imshow('output', frame)\n",
    "    if(cv2.waitKey(1) & 0xFF == ord('q')):\n",
    "        break\n",
    "\n",
    "cap.release()\n",
    "cv2.destroyAllWindows()"
   ]
  },
  {
   "cell_type": "code",
   "execution_count": null,
   "id": "073a9d71-729c-445d-9cdc-fe3681a2541c",
   "metadata": {},
   "outputs": [],
   "source": []
  }
 ],
 "metadata": {
  "kernelspec": {
   "display_name": "Python 3 (ipykernel)",
   "language": "python",
   "name": "python3"
  },
  "language_info": {
   "codemirror_mode": {
    "name": "ipython",
    "version": 3
   },
   "file_extension": ".py",
   "mimetype": "text/x-python",
   "name": "python",
   "nbconvert_exporter": "python",
   "pygments_lexer": "ipython3",
   "version": "3.11.9"
  }
 },
 "nbformat": 4,
 "nbformat_minor": 5
}
